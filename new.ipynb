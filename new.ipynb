{
 "cells": [
  {
   "cell_type": "code",
   "execution_count": 1,
   "metadata": {},
   "outputs": [
    {
     "name": "stdout",
     "output_type": "stream",
     "text": [
      "WARNING:tensorflow:From c:\\Users\\benit\\AppData\\Local\\Programs\\Python\\Python311\\Lib\\site-packages\\keras\\src\\losses.py:2976: The name tf.losses.sparse_softmax_cross_entropy is deprecated. Please use tf.compat.v1.losses.sparse_softmax_cross_entropy instead.\n",
      "\n"
     ]
    }
   ],
   "source": [
    "from keras.layers import Dense,Flatten\n",
    "from keras.models import Model\n",
    "from keras.applications.vgg16 import VGG16\n",
    "from keras.preprocessing.image import ImageDataGenerator\n",
    "import cv2\n",
    "import numpy as np \n",
    "import joblib\n"
   ]
  },
  {
   "cell_type": "code",
   "execution_count": 2,
   "metadata": {},
   "outputs": [],
   "source": [
    "image_size = [224,224,3]"
   ]
  },
  {
   "cell_type": "code",
   "execution_count": 3,
   "metadata": {},
   "outputs": [],
   "source": [
    "train_path = 'C:\\DL_projects_may\\dl_corn_project\\outputfile\\\\train'\n",
    "\n",
    "test_path = 'C:\\DL_projects_may\\dl_corn_project\\outputfile\\\\val'"
   ]
  },
  {
   "cell_type": "code",
   "execution_count": 4,
   "metadata": {},
   "outputs": [
    {
     "name": "stdout",
     "output_type": "stream",
     "text": [
      "WARNING:tensorflow:From c:\\Users\\benit\\AppData\\Local\\Programs\\Python\\Python311\\Lib\\site-packages\\keras\\src\\backend.py:1398: The name tf.executing_eagerly_outside_functions is deprecated. Please use tf.compat.v1.executing_eagerly_outside_functions instead.\n",
      "\n",
      "WARNING:tensorflow:From c:\\Users\\benit\\AppData\\Local\\Programs\\Python\\Python311\\Lib\\site-packages\\keras\\src\\layers\\pooling\\max_pooling2d.py:161: The name tf.nn.max_pool is deprecated. Please use tf.nn.max_pool2d instead.\n",
      "\n"
     ]
    }
   ],
   "source": [
    "\n",
    "vgg = VGG16(input_shape = image_size,weights = 'imagenet',include_top = False)\n"
   ]
  },
  {
   "cell_type": "code",
   "execution_count": 5,
   "metadata": {},
   "outputs": [],
   "source": [
    "for layer in vgg.layers:\n",
    "    layer.trainable = False"
   ]
  },
  {
   "cell_type": "code",
   "execution_count": 6,
   "metadata": {},
   "outputs": [],
   "source": [
    "x = Flatten()(vgg.output)"
   ]
  },
  {
   "cell_type": "code",
   "execution_count": 7,
   "metadata": {},
   "outputs": [],
   "source": [
    "prediction = Dense(4,activation = 'softmax')(x)"
   ]
  },
  {
   "cell_type": "code",
   "execution_count": 8,
   "metadata": {},
   "outputs": [],
   "source": [
    "# model  \n",
    "\n",
    "model = Model(inputs = vgg.input,outputs = prediction)"
   ]
  },
  {
   "cell_type": "code",
   "execution_count": 9,
   "metadata": {},
   "outputs": [],
   "source": [
    "# model.summary()"
   ]
  },
  {
   "cell_type": "code",
   "execution_count": 10,
   "metadata": {},
   "outputs": [
    {
     "name": "stdout",
     "output_type": "stream",
     "text": [
      "WARNING:tensorflow:From c:\\Users\\benit\\AppData\\Local\\Programs\\Python\\Python311\\Lib\\site-packages\\keras\\src\\optimizers\\__init__.py:309: The name tf.train.Optimizer is deprecated. Please use tf.compat.v1.train.Optimizer instead.\n",
      "\n"
     ]
    }
   ],
   "source": [
    "model.compile(optimizer = 'adam',\n",
    "              loss = 'categorical_crossentropy',\n",
    "              metrics = 'accuracy')"
   ]
  },
  {
   "cell_type": "code",
   "execution_count": 11,
   "metadata": {},
   "outputs": [
    {
     "name": "stdout",
     "output_type": "stream",
     "text": [
      "Found 3139 images belonging to 4 classes.\n",
      "Found 1049 images belonging to 4 classes.\n"
     ]
    }
   ],
   "source": [
    "from keras.preprocessing.image import ImageDataGenerator\n",
    "\n",
    "train_datageneration = ImageDataGenerator(rescale = 1/255,\n",
    "                                          zoom_range = 0.2,\n",
    "                                          horizontal_flip = True,\n",
    "                                          shear_range = 0.2)\n",
    "\n",
    "test_datageneration = ImageDataGenerator(rescale = 1/255)\n",
    "\n",
    "training_set = train_datageneration.flow_from_directory(train_path,\n",
    "                                                        target_size = (224,224),\n",
    "                                                        batch_size = 32,\n",
    "                                                        class_mode = 'categorical')\n",
    "\n",
    "test_set = test_datageneration.flow_from_directory(test_path,\n",
    "                                                  target_size = (224,224),\n",
    "                                                  batch_size = 32,\n",
    "                                                  class_mode = 'categorical')"
   ]
  },
  {
   "cell_type": "code",
   "execution_count": 12,
   "metadata": {},
   "outputs": [
    {
     "name": "stderr",
     "output_type": "stream",
     "text": [
      "C:\\Users\\benit\\AppData\\Local\\Temp\\ipykernel_15364\\3387230584.py:3: UserWarning: `Model.fit_generator` is deprecated and will be removed in a future version. Please use `Model.fit`, which supports generators.\n",
      "  fited_model = model.fit_generator(training_set,\n"
     ]
    },
    {
     "name": "stdout",
     "output_type": "stream",
     "text": [
      "Epoch 1/15\n",
      "WARNING:tensorflow:From c:\\Users\\benit\\AppData\\Local\\Programs\\Python\\Python311\\Lib\\site-packages\\keras\\src\\utils\\tf_utils.py:492: The name tf.ragged.RaggedTensorValue is deprecated. Please use tf.compat.v1.ragged.RaggedTensorValue instead.\n",
      "\n",
      "WARNING:tensorflow:From c:\\Users\\benit\\AppData\\Local\\Programs\\Python\\Python311\\Lib\\site-packages\\keras\\src\\engine\\base_layer_utils.py:384: The name tf.executing_eagerly_outside_functions is deprecated. Please use tf.compat.v1.executing_eagerly_outside_functions instead.\n",
      "\n",
      "99/99 [==============================] - 344s 3s/step - loss: 0.4752 - accuracy: 0.8280 - val_loss: 0.4034 - val_accuracy: 0.8446\n",
      "Epoch 2/15\n",
      "99/99 [==============================] - 341s 3s/step - loss: 0.2774 - accuracy: 0.9012 - val_loss: 0.3287 - val_accuracy: 0.8894\n",
      "Epoch 3/15\n",
      "99/99 [==============================] - 335s 3s/step - loss: 0.2145 - accuracy: 0.9200 - val_loss: 0.2573 - val_accuracy: 0.9066\n",
      "Epoch 4/15\n",
      "99/99 [==============================] - 331s 3s/step - loss: 0.1733 - accuracy: 0.9379 - val_loss: 0.3004 - val_accuracy: 0.8970\n",
      "Epoch 5/15\n",
      "99/99 [==============================] - 322s 3s/step - loss: 0.1833 - accuracy: 0.9334 - val_loss: 0.3190 - val_accuracy: 0.8894\n",
      "Epoch 6/15\n",
      "99/99 [==============================] - 327s 3s/step - loss: 0.1391 - accuracy: 0.9478 - val_loss: 0.2717 - val_accuracy: 0.9133\n",
      "Epoch 7/15\n",
      "99/99 [==============================] - 324s 3s/step - loss: 0.1301 - accuracy: 0.9516 - val_loss: 0.3325 - val_accuracy: 0.8904\n",
      "Epoch 8/15\n",
      "99/99 [==============================] - 325s 3s/step - loss: 0.1255 - accuracy: 0.9516 - val_loss: 0.3516 - val_accuracy: 0.8837\n",
      "Epoch 9/15\n",
      "99/99 [==============================] - 324s 3s/step - loss: 0.0921 - accuracy: 0.9665 - val_loss: 0.2716 - val_accuracy: 0.9009\n",
      "Epoch 10/15\n",
      "99/99 [==============================] - 326s 3s/step - loss: 0.0951 - accuracy: 0.9627 - val_loss: 0.3038 - val_accuracy: 0.8970\n",
      "Epoch 11/15\n",
      "99/99 [==============================] - 325s 3s/step - loss: 0.0849 - accuracy: 0.9685 - val_loss: 0.2870 - val_accuracy: 0.9085\n",
      "Epoch 12/15\n",
      "99/99 [==============================] - 328s 3s/step - loss: 0.0983 - accuracy: 0.9637 - val_loss: 0.2953 - val_accuracy: 0.9085\n",
      "Epoch 13/15\n",
      "99/99 [==============================] - 322s 3s/step - loss: 0.0726 - accuracy: 0.9745 - val_loss: 0.2863 - val_accuracy: 0.9133\n",
      "Epoch 14/15\n",
      "99/99 [==============================] - 317s 3s/step - loss: 0.0605 - accuracy: 0.9761 - val_loss: 0.2870 - val_accuracy: 0.9142\n",
      "Epoch 15/15\n",
      "99/99 [==============================] - 311s 3s/step - loss: 0.1528 - accuracy: 0.9452 - val_loss: 0.3120 - val_accuracy: 0.9047\n"
     ]
    }
   ],
   "source": [
    "# fitting\n",
    "\n",
    "fited_model = model.fit_generator(training_set,\n",
    "                                  validation_data = test_set,\n",
    "                                  epochs = 15)"
   ]
  },
  {
   "cell_type": "code",
   "execution_count": 13,
   "metadata": {},
   "outputs": [],
   "source": [
    "# prediction\n",
    "\n",
    "def pred_new(img_path,model):\n",
    "    image = cv2.imread(img_path)\n",
    "    cv2.imshow('image',image)\n",
    "    image_resized = cv2.resize(image,(224,224))\n",
    "    img = image_resized.reshape(1,224,224,3)\n",
    "    pred = model.predict(img)\n",
    "    # print(pred)\n",
    "    x = np.argmax(pred)\n",
    "    # print(x)\n",
    "    if x == 0:\n",
    "        print('Blight')\n",
    "    elif x == 1:\n",
    "        print('Common_rust')\n",
    "    elif x == 2:\n",
    "        print('Gray_Leaf_Spot')\n",
    "    else:\n",
    "        print('Healthy')\n",
    " \n",
    "\n",
    "    cv2.waitKey(5000)\n",
    "    cv2.destroyAllWindows()"
   ]
  },
  {
   "cell_type": "code",
   "execution_count": 14,
   "metadata": {},
   "outputs": [
    {
     "name": "stdout",
     "output_type": "stream",
     "text": [
      "1/1 [==============================] - 0s 277ms/step\n",
      "Common_rust\n"
     ]
    }
   ],
   "source": [
    "path = 'C:\\DL_projects_may\\dl_corn_project\\data\\Common_Rust\\Corn_Common_Rust (1).jpg'\n",
    "pred_new(path,model)"
   ]
  },
  {
   "cell_type": "code",
   "execution_count": 19,
   "metadata": {},
   "outputs": [
    {
     "data": {
      "text/plain": [
       "['corn_model1.h5']"
      ]
     },
     "execution_count": 19,
     "metadata": {},
     "output_type": "execute_result"
    }
   ],
   "source": [
    "joblib.dump(model,'corn_model1.h5')"
   ]
  },
  {
   "cell_type": "code",
   "execution_count": 17,
   "metadata": {},
   "outputs": [
    {
     "name": "stdout",
     "output_type": "stream",
     "text": [
      "Your external IP address is: 116.68.102.45\n"
     ]
    }
   ],
   "source": [
    "code for streamlit\n",
    "# import requests\n",
    "\n",
    "# response = requests.get('https://ipv4.icanhazip.com')\n",
    "# external_ip = response.text.strip()\n",
    "\n",
    "# print(f\"Your external IP address is: {external_ip}\")\n"
   ]
  },
  {
   "cell_type": "code",
   "execution_count": null,
   "metadata": {},
   "outputs": [],
   "source": []
  }
 ],
 "metadata": {
  "kernelspec": {
   "display_name": "Python 3",
   "language": "python",
   "name": "python3"
  },
  "language_info": {
   "codemirror_mode": {
    "name": "ipython",
    "version": 3
   },
   "file_extension": ".py",
   "mimetype": "text/x-python",
   "name": "python",
   "nbconvert_exporter": "python",
   "pygments_lexer": "ipython3",
   "version": "3.11.4"
  }
 },
 "nbformat": 4,
 "nbformat_minor": 2
}
